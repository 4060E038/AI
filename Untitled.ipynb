{
  "nbformat": 4,
  "nbformat_minor": 0,
  "metadata": {
    "colab": {
      "name": "Untitled",
      "provenance": [],
      "collapsed_sections": [],
      "authorship_tag": "ABX9TyM1EwywNKuqj88b50mXA1AE",
      "include_colab_link": true
    },
    "kernelspec": {
      "name": "python3",
      "display_name": "Python 3"
    }
  },
  "cells": [
    {
      "cell_type": "markdown",
      "metadata": {
        "id": "view-in-github",
        "colab_type": "text"
      },
      "source": [
        "<a href=\"https://colab.research.google.com/github/4060E038/AI/blob/master/Untitled.ipynb\" target=\"_parent\"><img src=\"https://colab.research.google.com/assets/colab-badge.svg\" alt=\"Open In Colab\"/></a>"
      ]
    },
    {
      "cell_type": "code",
      "metadata": {
        "id": "ZkyfUfTM4IP7",
        "outputId": "fae95a77-b602-4aa5-fda8-aa665283eca8",
        "colab": {
          "base_uri": "https://localhost:8080/",
          "height": 202
        }
      },
      "source": [
        "!wget https://raw.githubusercontent.com/MyDearGreatTeacher/AI_and_security_2020/master/referendum2.csv"
      ],
      "execution_count": 1,
      "outputs": [
        {
          "output_type": "stream",
          "text": [
            "--2020-10-21 01:59:11--  https://raw.githubusercontent.com/MyDearGreatTeacher/AI_and_security_2020/master/referendum2.csv\n",
            "Resolving raw.githubusercontent.com (raw.githubusercontent.com)... 151.101.0.133, 151.101.64.133, 151.101.128.133, ...\n",
            "Connecting to raw.githubusercontent.com (raw.githubusercontent.com)|151.101.0.133|:443... connected.\n",
            "HTTP request sent, awaiting response... 200 OK\n",
            "Length: 219621 (214K) [text/plain]\n",
            "Saving to: ‘referendum2.csv’\n",
            "\n",
            "referendum2.csv     100%[===================>] 214.47K  --.-KB/s    in 0.08s   \n",
            "\n",
            "2020-10-21 01:59:12 (2.70 MB/s) - ‘referendum2.csv’ saved [219621/219621]\n",
            "\n"
          ],
          "name": "stdout"
        }
      ]
    },
    {
      "cell_type": "code",
      "metadata": {
        "id": "1JcHjV_S7wlo"
      },
      "source": [
        "import numpy as np\n",
        "import pandas as pd\n",
        "\n",
        "s = pd.Series([1, 3, 5, np.nan, 6, 8])"
      ],
      "execution_count": 8,
      "outputs": []
    },
    {
      "cell_type": "code",
      "metadata": {
        "id": "q5IvLMbn9BzA",
        "outputId": "96c34f55-3b44-4705-a0e7-c41cb4e5fa93",
        "colab": {
          "base_uri": "https://localhost:8080/",
          "height": 134
        }
      },
      "source": [
        "s"
      ],
      "execution_count": 10,
      "outputs": [
        {
          "output_type": "execute_result",
          "data": {
            "text/plain": [
              "0    1.0\n",
              "1    3.0\n",
              "2    5.0\n",
              "3    NaN\n",
              "4    6.0\n",
              "5    8.0\n",
              "dtype: float64"
            ]
          },
          "metadata": {
            "tags": []
          },
          "execution_count": 10
        }
      ]
    },
    {
      "cell_type": "code",
      "metadata": {
        "id": "htiQKfUV97if",
        "outputId": "051e3b33-750b-43e0-fbba-5ae757e25aeb",
        "colab": {
          "base_uri": "https://localhost:8080/",
          "height": 166
        }
      },
      "source": [
        " df2 = pd.DataFrame({'A': 1.,\n",
        "   ...:              'B': pd.Timestamp('20201021'),\n",
        "   ...:              'C': pd.Series(1, index=list(range(4)), dtype='float32'),\n",
        "   ...:              'D': np.array([3] * 4, dtype='int32'),\n",
        "   ...:              'E': pd.Categorical([\"test\", \"train\", \"test\", \"train\"]),\n",
        "   ...:              'F': 'foo'})\n",
        "   ...: \n",
        "\n",
        "df2\n"
      ],
      "execution_count": 18,
      "outputs": [
        {
          "output_type": "execute_result",
          "data": {
            "text/html": [
              "<div>\n",
              "<style scoped>\n",
              "    .dataframe tbody tr th:only-of-type {\n",
              "        vertical-align: middle;\n",
              "    }\n",
              "\n",
              "    .dataframe tbody tr th {\n",
              "        vertical-align: top;\n",
              "    }\n",
              "\n",
              "    .dataframe thead th {\n",
              "        text-align: right;\n",
              "    }\n",
              "</style>\n",
              "<table border=\"1\" class=\"dataframe\">\n",
              "  <thead>\n",
              "    <tr style=\"text-align: right;\">\n",
              "      <th></th>\n",
              "      <th>A</th>\n",
              "      <th>B</th>\n",
              "      <th>C</th>\n",
              "      <th>D</th>\n",
              "      <th>E</th>\n",
              "      <th>F</th>\n",
              "    </tr>\n",
              "  </thead>\n",
              "  <tbody>\n",
              "    <tr>\n",
              "      <th>0</th>\n",
              "      <td>1.0</td>\n",
              "      <td>2020-10-21</td>\n",
              "      <td>1.0</td>\n",
              "      <td>3</td>\n",
              "      <td>test</td>\n",
              "      <td>foo</td>\n",
              "    </tr>\n",
              "    <tr>\n",
              "      <th>1</th>\n",
              "      <td>1.0</td>\n",
              "      <td>2020-10-21</td>\n",
              "      <td>1.0</td>\n",
              "      <td>3</td>\n",
              "      <td>train</td>\n",
              "      <td>foo</td>\n",
              "    </tr>\n",
              "    <tr>\n",
              "      <th>2</th>\n",
              "      <td>1.0</td>\n",
              "      <td>2020-10-21</td>\n",
              "      <td>1.0</td>\n",
              "      <td>3</td>\n",
              "      <td>test</td>\n",
              "      <td>foo</td>\n",
              "    </tr>\n",
              "    <tr>\n",
              "      <th>3</th>\n",
              "      <td>1.0</td>\n",
              "      <td>2020-10-21</td>\n",
              "      <td>1.0</td>\n",
              "      <td>3</td>\n",
              "      <td>train</td>\n",
              "      <td>foo</td>\n",
              "    </tr>\n",
              "  </tbody>\n",
              "</table>\n",
              "</div>"
            ],
            "text/plain": [
              "     A          B    C  D      E    F\n",
              "0  1.0 2020-10-21  1.0  3   test  foo\n",
              "1  1.0 2020-10-21  1.0  3  train  foo\n",
              "2  1.0 2020-10-21  1.0  3   test  foo\n",
              "3  1.0 2020-10-21  1.0  3  train  foo"
            ]
          },
          "metadata": {
            "tags": []
          },
          "execution_count": 18
        }
      ]
    },
    {
      "cell_type": "code",
      "metadata": {
        "id": "jQn3rc0E_Lr5",
        "outputId": "8674797e-6d1d-4fd8-fc52-a6f9bed692de",
        "colab": {
          "base_uri": "https://localhost:8080/",
          "height": 134
        }
      },
      "source": [
        "df2.dtypes"
      ],
      "execution_count": 19,
      "outputs": [
        {
          "output_type": "execute_result",
          "data": {
            "text/plain": [
              "A           float64\n",
              "B    datetime64[ns]\n",
              "C           float32\n",
              "D             int32\n",
              "E          category\n",
              "F            object\n",
              "dtype: object"
            ]
          },
          "metadata": {
            "tags": []
          },
          "execution_count": 19
        }
      ]
    },
    {
      "cell_type": "code",
      "metadata": {
        "id": "6Mp5D1gq_dzi",
        "outputId": "c4a7ab14-f29d-44ef-cb1a-ca6b0fa66196",
        "colab": {
          "base_uri": "https://localhost:8080/",
          "height": 163
        }
      },
      "source": [
        "df.head()"
      ],
      "execution_count": 21,
      "outputs": [
        {
          "output_type": "error",
          "ename": "NameError",
          "evalue": "ignored",
          "traceback": [
            "\u001b[0;31m---------------------------------------------------------------------------\u001b[0m",
            "\u001b[0;31mNameError\u001b[0m                                 Traceback (most recent call last)",
            "\u001b[0;32m<ipython-input-21-c42a15b2c7cf>\u001b[0m in \u001b[0;36m<module>\u001b[0;34m()\u001b[0m\n\u001b[0;32m----> 1\u001b[0;31m \u001b[0mdf\u001b[0m\u001b[0;34m.\u001b[0m\u001b[0mhead\u001b[0m\u001b[0;34m(\u001b[0m\u001b[0;34m)\u001b[0m\u001b[0;34m\u001b[0m\u001b[0;34m\u001b[0m\u001b[0m\n\u001b[0m",
            "\u001b[0;31mNameError\u001b[0m: name 'df' is not defined"
          ]
        }
      ]
    },
    {
      "cell_type": "markdown",
      "metadata": {
        "id": "tXkAjwzCPoTk"
      },
      "source": [
        "Pandas實作練習_20201021\n",
        "10 minutes to pandas\n",
        "https://pandas.pydata.org/pandas-docs/stable/user_guide/10min.html\n",
        "\n",
        "產生兩個Pandas物件\n",
        "[1]Pandas物件1\n",
        "dates = pd.date_range('20130101', periods=6)\n",
        "df = pd.DataFrame(np.random.randn(6, 4), index=dates, columns=list('ABCD'))\n",
        "\n",
        "根據以上的方式所產生的Pandas物件\n",
        "                   A         B         C         D\n",
        "2013-01-01  0.469112 -0.282863 -1.509059 -1.135632\n",
        "2013-01-02  1.212112 -0.173215  0.119209 -1.044236\n",
        "2013-01-03 -0.861849 -2.104569 -0.494929  1.071804\n",
        "2013-01-04  0.721555 -0.706771 -1.039575  0.271860\n",
        "2013-01-05 -0.424972  0.567020  0.276232 -1.087401\n",
        "2013-01-06 -0.673690  0.113648 -1.478427  0.524988\n",
        "\n",
        "[2]Pandas物件2\n",
        "df2 = pd.DataFrame({'A': 1.,\n",
        "           'B': pd.Timestamp('20121021'),\n",
        "           'C': pd.Series(1, index=list(range(4)), dtype='float32'),\n",
        "           'D': np.array([3] * 4, dtype='int32'),\n",
        "           'E': pd.Categorical([\"test\", \"train\", \"test\", \"train\"]),\n",
        "           'F': 'foo'})\n",
        "df2\n",
        "\n",
        "\n",
        "題目1:顯示df2每一個欄位的資料型態  _____________ df2.dtypes\n",
        "題目2: 顯示df1的前五筆資料  df.head(5)\n",
        "題目3: 顯示df2的後五筆資料  df.tail(5)\n",
        "題目4: Display the index   df.index\n",
        "題目5:Display thecolumns:   df.columns\n",
        "題目6: 顯示df1的描述統計學結果    df.describe()\n",
        "\n",
        "題目:資料轉換   df.T\n",
        "原本資料\n",
        "                  A         B         C         D\n",
        "2013-01-01  0.469112   -0.282863 -1.509059 -1.135632\n",
        "2013-01-02  1.212112   -0.173215  0.119209 -1.044236\n",
        "2013-01-03  -0.861849  -2.104569 -0.494929  1.071804\n",
        "2013-01-04  0.721555  -0.706771 -1.039575  0.271860\n",
        "2013-01-05  -0.424972  0.567020  0.276232 -1.087401\n",
        "2013-01-06  -0.673690  0.113648 -1.478427  0.524988\n",
        "\n",
        "轉換後的資料\n",
        "   2013-01-01  2013-01-02  2013-01-03  2013-01-04  2013-01-05  2013-01-06\n",
        "A    0.469112    1.212112   -0.861849    0.721555   -0.424972   -0.673690\n",
        "B   -0.282863   -0.173215   -2.104569   -0.706771    0.567020    0.113648\n",
        "C   -1.509059    0.119209   -0.494929   -1.039575    0.276232   -1.478427\n",
        "D   -1.135632   -1.044236    1.071804    0.271860   -1.087401    0.524988\n",
        "\n",
        "=======各種排序技術======================\n",
        "題目:逆排序1  根據column     df.sort_index(axis=1, ascending=False)\n",
        "排序後的資料如下:\n",
        "                   D         C         B         A\n",
        "2013-01-01  -1.135632 -1.509059 -0.282863  0.469112\n",
        "2013-01-02  -1.044236  0.119209 -0.173215  1.212112\n",
        "2013-01-03  1.071804 -0.494929 -2.104569 -0.861849\n",
        "2013-01-04  0.271860 -1.039575 -0.706771  0.721555\n",
        "2013-01-05  -1.087401  0.276232  0.567020 -0.424972\n",
        "2013-01-06  0.524988 -1.478427  0.113648 -0.673690\n",
        "\n",
        "\n",
        "題目: 逆排序2  根據索引    df.sort_index(axis=0, ascending=False)\n",
        "題目: 根據column B 由小排到大    df.sort_values(by='B')\n",
        "                   A         B         C         D\n",
        "2013-01-03   -0.861849 -2.104569 -0.494929  1.071804\n",
        "2013-01-04    0.721555 -0.706771 -1.039575  0.271860\n",
        "2013-01-01    0.469112 -0.282863 -1.509059 -1.135632\n",
        "2013-01-02    1.212112 -0.173215  0.119209 -1.044236\n",
        "2013-01-06   -0.673690  0.113648 -1.478427  0.524988\n",
        "2013-01-05   -0.424972  0.567020  0.276232 -1.087401\n",
        "\n",
        "\n",
        "\n",
        "===== Selection各種資料選擇技術===========\n",
        "題目: 挑出column A的所有欄位資料   df['A']\n",
        "題目: 挑出前三筆的所有欄位資料  df[0:3]\n",
        "題目: 挑出從20130102到20130104的所有欄位資料 df['20130102':'20130104']\n",
        "題目: 挑出第一筆的所有欄位資料但不含索引\n",
        "df.loc[dates[0]]\n",
        "\n",
        "題目: 挑出所有筆數的column A與column B資料\n",
        "df.loc[:, ['A', 'B']]\n",
        "\n",
        "題目: slicing運算  \n",
        "挑出從20130102到20130104的column A與column B資料\n",
        "df.loc['20130102':'20130104', ['A', 'B']]\n",
        "\n",
        "\n",
        "題目:挑出單一點的兩種技術\n",
        "挑出第一筆的column A資料\n",
        "\n",
        "df.loc[dates[0], 'A']\n",
        "df.at[dates[0], 'A']\n",
        "\n",
        "\n",
        "======= 根據不同位置挑選出資料Selection by position ======\n",
        "題目: 挑出第三筆的所有欄位資料但不含索引\n",
        "\n",
        "df.iloc[3]\n",
        "\n",
        "題目:挑選技術:完成底下的Selection\n",
        "\n",
        "結果如下\n",
        "                A           B\n",
        "2013-01-04   0.721555  -0.706771\n",
        "2013-01-05  -0.424972   0.567020\n",
        "\n",
        "df.iloc[3:5, 0:2]\n",
        "\n",
        "題目:\n",
        "題目:"
      ]
    },
    {
      "cell_type": "code",
      "metadata": {
        "id": "sIg25QW6Pu8D"
      },
      "source": [
        "Pandas實作練習_20201021\n",
        "10 minutes to pandas\n",
        "https://pandas.pydata.org/pandas-docs/stable/user_guide/10min.html\n",
        "\n",
        "產生兩個Pandas物件\n",
        "[1]Pandas物件1\n",
        "dates = pd.date_range('20130101', periods=6)\n",
        "df = pd.DataFrame(np.random.randn(6, 4), index=dates, columns=list('ABCD'))\n",
        "\n",
        "根據以上的方式所產生的Pandas物件\n",
        "                   A         B         C         D\n",
        "2013-01-01  0.469112 -0.282863 -1.509059 -1.135632\n",
        "2013-01-02  1.212112 -0.173215  0.119209 -1.044236\n",
        "2013-01-03 -0.861849 -2.104569 -0.494929  1.071804\n",
        "2013-01-04  0.721555 -0.706771 -1.039575  0.271860\n",
        "2013-01-05 -0.424972  0.567020  0.276232 -1.087401\n",
        "2013-01-06 -0.673690  0.113648 -1.478427  0.524988\n",
        "\n",
        "[2]Pandas物件2\n",
        "df2 = pd.DataFrame({'A': 1.,\n",
        "           'B': pd.Timestamp('20121021'),\n",
        "           'C': pd.Series(1, index=list(range(4)), dtype='float32'),\n",
        "           'D': np.array([3] * 4, dtype='int32'),\n",
        "           'E': pd.Categorical([\"test\", \"train\", \"test\", \"train\"]),\n",
        "           'F': 'foo'})\n",
        "df2\n",
        "\n",
        "\n",
        "題目1:顯示df2每一個欄位的資料型態  _____________ df2.dtypes\n",
        "題目2: 顯示df1的前五筆資料  df.head(5)\n",
        "題目3: 顯示df2的後五筆資料  df.tail(5)\n",
        "題目4: Display the index   df.index\n",
        "題目5:Display thecolumns:   df.columns\n",
        "題目6: 顯示df1的描述統計學結果    df.describe()\n",
        "\n",
        "題目:資料轉換   df.T\n",
        "原本資料\n",
        "                  A         B         C         D\n",
        "2013-01-01  0.469112   -0.282863 -1.509059 -1.135632\n",
        "2013-01-02  1.212112   -0.173215  0.119209 -1.044236\n",
        "2013-01-03  -0.861849  -2.104569 -0.494929  1.071804\n",
        "2013-01-04  0.721555  -0.706771 -1.039575  0.271860\n",
        "2013-01-05  -0.424972  0.567020  0.276232 -1.087401\n",
        "2013-01-06  -0.673690  0.113648 -1.478427  0.524988\n",
        "\n",
        "轉換後的資料\n",
        "   2013-01-01  2013-01-02  2013-01-03  2013-01-04  2013-01-05  2013-01-06\n",
        "A    0.469112    1.212112   -0.861849    0.721555   -0.424972   -0.673690\n",
        "B   -0.282863   -0.173215   -2.104569   -0.706771    0.567020    0.113648\n",
        "C   -1.509059    0.119209   -0.494929   -1.039575    0.276232   -1.478427\n",
        "D   -1.135632   -1.044236    1.071804    0.271860   -1.087401    0.524988\n",
        "\n",
        "=======各種排序技術======================\n",
        "題目:逆排序1  根據column     df.sort_index(axis=1, ascending=False)\n",
        "排序後的資料如下:\n",
        "                   D         C         B         A\n",
        "2013-01-01  -1.135632 -1.509059 -0.282863  0.469112\n",
        "2013-01-02  -1.044236  0.119209 -0.173215  1.212112\n",
        "2013-01-03  1.071804 -0.494929 -2.104569 -0.861849\n",
        "2013-01-04  0.271860 -1.039575 -0.706771  0.721555\n",
        "2013-01-05  -1.087401  0.276232  0.567020 -0.424972\n",
        "2013-01-06  0.524988 -1.478427  0.113648 -0.673690\n",
        "\n",
        "\n",
        "題目: 逆排序2  根據索引    df.sort_index(axis=0, ascending=False)\n",
        "題目: 根據column B 由小排到大    df.sort_values(by='B')\n",
        "                   A         B         C         D\n",
        "2013-01-03   -0.861849 -2.104569 -0.494929  1.071804\n",
        "2013-01-04    0.721555 -0.706771 -1.039575  0.271860\n",
        "2013-01-01    0.469112 -0.282863 -1.509059 -1.135632\n",
        "2013-01-02    1.212112 -0.173215  0.119209 -1.044236\n",
        "2013-01-06   -0.673690  0.113648 -1.478427  0.524988\n",
        "2013-01-05   -0.424972  0.567020  0.276232 -1.087401\n",
        "\n",
        "\n",
        "\n",
        "===== Selection各種資料選擇技術===========\n",
        "題目: 挑出column A的所有欄位資料   df['A']\n",
        "題目: 挑出前三筆的所有欄位資料  df[0:3]\n",
        "題目: 挑出從20130102到20130104的所有欄位資料 df['20130102':'20130104']\n",
        "題目: 挑出第一筆的所有欄位資料但不含索引\n",
        "df.loc[dates[0]]\n",
        "\n",
        "題目: 挑出所有筆數的column A與column B資料\n",
        "df.loc[:, ['A', 'B']]\n",
        "\n",
        "題目: slicing運算  \n",
        "挑出從20130102到20130104的column A與column B資料\n",
        "df.loc['20130102':'20130104', ['A', 'B']]\n",
        "\n",
        "\n",
        "題目:挑出單一點的兩種技術\n",
        "挑出第一筆的column A資料\n",
        "\n",
        "df.loc[dates[0], 'A']\n",
        "df.at[dates[0], 'A']\n",
        "\n",
        "\n",
        "======= 根據不同位置挑選出資料Selection by position ======\n",
        "題目: 挑出第三筆的所有欄位資料但不含索引\n",
        "\n",
        "df.iloc[3]\n",
        "\n",
        "題目:挑選技術:完成底下的Selection\n",
        "\n",
        "結果如下\n",
        "                A           B\n",
        "2013-01-04   0.721555  -0.706771\n",
        "2013-01-05  -0.424972   0.567020\n",
        "\n",
        "df.iloc[3:5, 0:2]\n",
        "\n",
        "題目:\n",
        "題目:"
      ],
      "execution_count": null,
      "outputs": []
    }
  ]
}